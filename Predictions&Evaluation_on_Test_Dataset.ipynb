{
 "cells": [
  {
   "cell_type": "code",
   "execution_count": 64,
   "metadata": {},
   "outputs": [],
   "source": [
    "import numpy as np\n",
    "import os\n",
    "from tensorflow import keras\n",
    "from tensorflow.keras.preprocessing.image import ImageDataGenerator\n",
    "from tensorflow.keras.models import Sequential\n",
    "from tensorflow.keras.layers import Dropout, Flatten, Dense,BatchNormalization\n",
    "from tensorflow.keras import applications\n",
    "import tensorflow\n",
    "from tensorflow import keras\n",
    "from tensorflow.keras import Model\n",
    "from tensorflow.keras.regularizers import l2\n",
    "import matplotlib.pyplot as plt\n",
    "import itertools\n",
    "from sklearn.metrics import confusion_matrix,accuracy_score,f1_score"
   ]
  },
  {
   "cell_type": "code",
   "execution_count": 68,
   "metadata": {},
   "outputs": [
    {
     "name": "stdout",
     "output_type": "stream",
     "text": [
      "Loading weights of TOP MODEL custom trained with the help of VGG16\n",
      "\n"
     ]
    }
   ],
   "source": [
    "#SET DIRECTORY WITH DATA FOLDER INSIDE COMPRISING TRAIN, TEST AND VALIDATION DIRECTORIES ARRANGED IN COMPATIBILITY WITH KERAS IMAGEDATAGENERATORS\n",
    "directory = r'C:\\Users\\Alankrit\\Videos\\PetImages'\n",
    "# dimensions of our images.\n",
    "img_width, img_height = 150, 150\n",
    "\n",
    "print(\"Loading weights of TOP MODEL custom trained with the help of VGG16\\n\")\n",
    "\n",
    "top_model_weights_path = os.path.join(directory,'bottleneck_fc_model.h5')\n",
    "\n",
    "\n",
    "\n",
    "nb_test_samples = 2899\n",
    "\n",
    "\n",
    "def save_bottlebeck_features():\n",
    "    datagen = ImageDataGenerator(rescale=1. / 255)\n",
    "\n",
    "    # build the VGG16 network\n",
    "    model = applications.VGG16(include_top=False, weights='imagenet')\n",
    "    \n",
    "    test_datagen = ImageDataGenerator(rescale=1./255) #Just normalization (no zoom etc.) for test\n",
    "    test_generator = test_datagen.flow_from_directory(\n",
    "        os.path.join(directory,'data\\\\test'),\n",
    "        target_size=(150, 150),\n",
    "        batch_size=batch_size,shuffle=False,\n",
    "        class_mode='binary')\n",
    "    \n",
    "    \n",
    "    bottleneck_features_test = model.predict_generator(\n",
    "        test_generator)\n",
    "    \n",
    "    np.save(open('bottleneck_features_test.npy', 'wb'),\n",
    "            bottleneck_features_test)"
   ]
  },
  {
   "cell_type": "code",
   "execution_count": 69,
   "metadata": {},
   "outputs": [
    {
     "name": "stdout",
     "output_type": "stream",
     "text": [
      "Calling Function to Make Predictions from the VGG16 CONVOLUTIONAL BLOCKS\n",
      "Found 2899 images belonging to 2 classes.\n"
     ]
    }
   ],
   "source": [
    "print(\"Calling Function to Make Predictions from the VGG16 CONVOLUTIONAL BLOCKS\")\n",
    "save_bottlebeck_features()"
   ]
  },
  {
   "cell_type": "markdown",
   "metadata": {},
   "source": [
    "# EVALUATION MODEL -TEST SET PERF"
   ]
  },
  {
   "cell_type": "code",
   "execution_count": 70,
   "metadata": {},
   "outputs": [
    {
     "name": "stdout",
     "output_type": "stream",
     "text": [
      "Loading the Conv Blocks Prediction\n",
      "\n",
      "Shape of the Prediction by VGG16 CONV BLOCKS: (2899, 4, 4, 512)\n",
      "\n",
      "REPLICATING THE CUSTOM TOP MODEL STRUCTURE PRE-TRAINED WITH VGG16 CONV BLOCKS\n",
      "\n",
      "LOADING THE PRE-TRAINED TOP MODEL WEIGHTS\n",
      "\n",
      "LOCKED&LOADED, READY FOR PREDICTIONS\n"
     ]
    }
   ],
   "source": [
    "print(\"Loading the Conv Blocks Prediction\\n\")\n",
    "test_data = np.load(open('bottleneck_features_test.npy','rb'))\n",
    "print(\"Shape of the Prediction by VGG16 CONV BLOCKS:\",test_data.shape)\n",
    "\n",
    "\n",
    "\n",
    "print(\"\\nREPLICATING THE CUSTOM TOP MODEL STRUCTURE PRE-TRAINED WITH VGG16 CONV BLOCKS\\n\")\n",
    "top_model = Sequential()\n",
    "top_model.add(Flatten(input_shape=test_data.shape[1:]))\n",
    "top_model.add(Dense(128, activation='relu'))\n",
    "top_model.add(BatchNormalization())\n",
    "top_model.add(Dense(1, activation='sigmoid'))\n",
    "\n",
    "print(\"LOADING THE PRE-TRAINED TOP MODEL WEIGHTS\\n\")\n",
    "top_model.load_weights(top_model_weights_path)\n",
    "print(\"LOCKED&LOADED, READY FOR PREDICTIONS\")"
   ]
  },
  {
   "cell_type": "code",
   "execution_count": 71,
   "metadata": {},
   "outputs": [
    {
     "name": "stdout",
     "output_type": "stream",
     "text": [
      "MAKING TOP LAYER PREDICTIONS...\n",
      "\n",
      "Done :)\n"
     ]
    }
   ],
   "source": [
    "#Prediction of Probabilities (0-1)\n",
    "\n",
    "print(\"MAKING TOP LAYER PREDICTIONS...\\n\")\n",
    "pred= top_model.predict(test_data)\n",
    "print(\"Done :)\")\n",
    "\n",
    "#SETTING A THRESHOLD OF 0.5 FOR CLASSES\n",
    "for i in range(len(pred)):\n",
    "    \n",
    "    if pred[i]<0.5:\n",
    "        pred[i]=0\n",
    "        \n",
    "    if pred[i]>0.5:\n",
    "        pred[i]=1"
   ]
  },
  {
   "cell_type": "markdown",
   "metadata": {},
   "source": [
    "# PERFORMANCE METRICS EVALUATION"
   ]
  },
  {
   "cell_type": "code",
   "execution_count": 72,
   "metadata": {
    "scrolled": true
   },
   "outputs": [
    {
     "name": "stdout",
     "output_type": "stream",
     "text": [
      "Evaluating Model Predictions on TEST DATASET\n",
      "\n",
      "\n",
      "F1_Score: 0.9201255667945588 \n",
      "Accuracy: 0.921007243877199 \n",
      "\n",
      "\n",
      "Confusion matrix, without normalization\n"
     ]
    },
    {
     "data": {
      "image/png": "[encoded data removed]",
      "text/plain": [
       "<Figure size 432x288 with 2 Axes>"
      ]
     },
     "metadata": {
      "needs_background": "light"
     },
     "output_type": "display_data"
    }
   ],
   "source": [
    "print(\"Evaluating Model Predictions on TEST DATASET\")\n",
    "test = test_generator.classes\n",
    "f1 = f1_score(test,pred)\n",
    "acc = accuracy_score(test,pred)\n",
    "print(\"\\n\\nF1_Score:\",f1,\"\\nAccuracy:\",acc,\"\\n\\n\")\n",
    "\n",
    "\n",
    "\n",
    "#Evaluation of Model - Confusion Matrix Plot\n",
    "def plot_confusion_matrix(cm, classes,\n",
    "                          normalize=False,\n",
    "                          title='Confusion matrix',\n",
    "                          cmap=plt.cm.Blues):\n",
    "    \"\"\"\n",
    "    This function prints and plots the confusion matrix.\n",
    "    Normalization can be applied by setting `normalize=True`.\n",
    "    \"\"\"\n",
    "    if normalize:\n",
    "        cm = cm.astype('float') / cm.sum(axis=1)[:, np.newaxis]\n",
    "        print(\"Normalized confusion matrix\")\n",
    "    else:\n",
    "        print('Confusion matrix, without normalization')\n",
    "\n",
    "\n",
    "    plt.imshow(cm, interpolation='nearest', cmap=cmap)\n",
    "    plt.title(title)\n",
    "    plt.colorbar()\n",
    "    tick_marks = np.arange(len(classes))\n",
    "    plt.xticks(tick_marks, classes, rotation=45)\n",
    "    plt.yticks(tick_marks, classes)\n",
    "\n",
    "    fmt = '.2f' if normalize else 'd'\n",
    "    thresh = cm.max() / 2.\n",
    "    for i, j in itertools.product(range(cm.shape[0]), range(cm.shape[1])):\n",
    "        plt.text(j, i, format(cm[i, j], fmt),\n",
    "                 horizontalalignment=\"center\",\n",
    "                 color=\"white\" if cm[i, j] > thresh else \"black\")\n",
    "\n",
    "    plt.ylabel('True label')\n",
    "    plt.xlabel('Predicted label')\n",
    "    plt.tight_layout()\n",
    "\n",
    "# Compute confusion matrix\n",
    "cnf_matrix = confusion_matrix(test, pred)\n",
    "np.set_printoptions(precision=2)\n",
    "\n",
    "# Plot non-normalized confusion matrix\n",
    "plt.figure()\n",
    "\n",
    "#plot_confusion_matrix(cnf_matrix, classes=['CAT','DOG'],\n",
    "                      #title='Confusion matrix, without normalization')\n",
    "\n",
    "plot_confusion_matrix(cnf_matrix, classes=['CAT','DOG'],normalize=False,\n",
    "                      title='Confusion matrix, with normalization')"
   ]
  }
 ],
 "metadata": {
  "kernelspec": {
   "display_name": "Python 3",
   "language": "python",
   "name": "python3"
  },
  "language_info": {
   "codemirror_mode": {
    "name": "ipython",
    "version": 3
   },
   "file_extension": ".py",
   "mimetype": "text/x-python",
   "name": "python",
   "nbconvert_exporter": "python",
   "pygments_lexer": "ipython3",
   "version": "3.8.5"
  }
 },
 "nbformat": 4,
 "nbformat_minor": 4
}
