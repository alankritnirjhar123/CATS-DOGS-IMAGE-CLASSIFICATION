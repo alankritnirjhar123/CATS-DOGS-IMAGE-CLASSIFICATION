{
 "cells": [
  {
   "cell_type": "code",
   "execution_count": 5,
   "metadata": {},
   "outputs": [],
   "source": [
    "import numpy as np\n",
    "import os\n",
    "from tensorflow import keras\n",
    "from tensorflow.keras.preprocessing.image import ImageDataGenerator\n",
    "from tensorflow.keras.models import Sequential\n",
    "from tensorflow.keras.layers import Dropout, Flatten, Dense,BatchNormalization\n",
    "from tensorflow.keras import applications\n",
    "from tensorflow.keras.callbacks import EarlyStopping, ModelCheckpoint, ReduceLROnPlateau,LearningRateScheduler\n",
    "from tensorflow.keras import optimizers\n",
    "import tensorflow\n",
    "from tensorflow.keras.regularizers import l2\n",
    "import matplotlib.pyplot as plt"
   ]
  },
  {
   "cell_type": "code",
   "execution_count": 8,
   "metadata": {},
   "outputs": [],
   "source": [
    "# dimensions of our images.\n",
    "img_width, img_height = 150, 150\n",
    "\n",
    "directory = r'C:\\Users\\Alankrit\\Videos\\PetImages'\n",
    "\n",
    "#To Save the Weights to be Used Later in Predictions\n",
    "top_model_weights_path = os.path.join(directory,'bottleneck_fc_model.h5')\n",
    "train_data_dir = os.path.join(directory,'data\\\\train')\n",
    "validation_data_dir = os.path.join(directory,'data\\\\validation')\n",
    "\n",
    "\n",
    "\n",
    "#SET TO THE NUMBER OF IMAGES IN TRAIN AND VALIDATION DIRECTORIES\n",
    "nb_train_samples = 15099\n",
    "nb_validation_samples = 8000\n",
    "epochs = 50\n",
    "batch_size = 32\n",
    "\n",
    "#FUNCTION TO PREDICT THE CONV. BLOCKS OUTPUT FROM VGG16 TO BE USED IN TRAINING TOP MODEL \n",
    "def save_bottlebeck_features():\n",
    "    datagen = ImageDataGenerator(rescale=1. / 255)\n",
    "\n",
    "    # build the VGG16 network\n",
    "    model = applications.VGG16(include_top=False, weights='imagenet')\n",
    "    \n",
    "    \n",
    "    generator = datagen.flow_from_directory(\n",
    "        train_data_dir,\n",
    "        target_size=(img_width, img_height),\n",
    "        batch_size=batch_size,\n",
    "        class_mode=None,\n",
    "        shuffle=False) #SETTING SHUFFLE=FALSE to be manually able to label the CONV BLOCKS Outputs used in TOP MODEL TRAINING\n",
    "    \n",
    "    bottleneck_features_train = model.predict_generator(\n",
    "        generator)\n",
    "    \n",
    "    \n",
    "    print(\"SAVING TRAINING FEATURE OUTPUTS FROM CONVOLUTIONAL BLOCKS\")\n",
    "    np.save(open(os.path.join(directory,'conv_features_train.npy'), 'wb'),\n",
    "            bottleneck_features_train)\n",
    "\n",
    "    \n",
    "    \n",
    "    generator = datagen.flow_from_directory(\n",
    "        validation_data_dir,\n",
    "        target_size=(img_width, img_height),\n",
    "        batch_size=batch_size,\n",
    "        class_mode=None,\n",
    "        shuffle=False)\n",
    "    \n",
    "    bottleneck_features_validation = model.predict_generator(\n",
    "        generator)\n",
    "    \n",
    "    print(\"\\nSAVING VALIDATION FEATURE OUTPUTS FROM CONVOLUTIONAL BLOCKS\\n\")\n",
    "    np.save(open(os.path.join(directory,'conv_features_validation.npy'), 'wb'),\n",
    "            bottleneck_features_validation)\n",
    "\n",
    "    \n",
    "  "
   ]
  },
  {
   "cell_type": "code",
   "execution_count": 9,
   "metadata": {},
   "outputs": [
    {
     "name": "stdout",
     "output_type": "stream",
     "text": [
      "CALLING FUNCTION TO PRODUCE OUTPUTS USING CONVOLUTIONAL BLOCKS OF VGG16\n",
      "Found 21000 images belonging to 2 classes.\n",
      "WARNING:tensorflow:From <ipython-input-8-42707cf41d00>:34: Model.predict_generator (from tensorflow.python.keras.engine.training) is deprecated and will be removed in a future version.\n",
      "Instructions for updating:\n",
      "Please use Model.predict, which supports generators.\n",
      "SAVING TRAINING FEATURE OUTPUTS FROM CONVOLUTIONAL BLOCKS\n",
      "Found 4000 images belonging to 2 classes.\n",
      "\n",
      "SAVING VALIDATION FEATURE OUTPUTS FROM CONVOLUTIONAL BLOCKS\n",
      "\n",
      "(21000, 4, 4, 512)\n"
     ]
    }
   ],
   "source": [
    "  \n",
    "    \n",
    "print(\"CALLING FUNCTION TO PRODUCE OUTPUTS USING CONVOLUTIONAL BLOCKS OF VGG16\")\n",
    "save_bottlebeck_features()\n",
    "\n",
    "train_data = np.load(open(os.path.join(directory,'conv_features_train.npy'),'rb'))\n",
    "print(train_data.shape)"
   ]
  },
  {
   "cell_type": "code",
   "execution_count": 10,
   "metadata": {},
   "outputs": [
    {
     "name": "stdout",
     "output_type": "stream",
     "text": [
      "(4000, 4, 4, 512)\n"
     ]
    }
   ],
   "source": [
    "validation_data = np.load(open(os.path.join(directory,'conv_features_validation.npy'),'rb'))\n",
    "print(validation_data.shape)"
   ]
  },
  {
   "cell_type": "markdown",
   "metadata": {},
   "source": [
    "# FUNCTION TO TRAIN TOP MODEL"
   ]
  },
  {
   "cell_type": "code",
   "execution_count": 16,
   "metadata": {
    "scrolled": false
   },
   "outputs": [
    {
     "name": "stdout",
     "output_type": "stream",
     "text": [
      "LOADING PREDICTED FEATURE OUTPUTS FROM CONV BLOCKS OF VGG16\n",
      "\n",
      "CREATING CUSTOM TOP LAYER ARCHITECTURE\n",
      "\n",
      "Model: \"sequential_4\"\n",
      "_________________________________________________________________\n",
      "Layer (type)                 Output Shape              Param #   \n",
      "=================================================================\n",
      "flatten_4 (Flatten)          (None, 8192)              0         \n",
      "_________________________________________________________________\n",
      "dense_8 (Dense)              (None, 128)               1048704   \n",
      "_________________________________________________________________\n",
      "batch_normalization_4 (Batch (None, 128)               512       \n",
      "_________________________________________________________________\n",
      "dropout_4 (Dropout)          (None, 128)               0         \n",
      "_________________________________________________________________\n",
      "dense_9 (Dense)              (None, 1)                 129       \n",
      "=================================================================\n",
      "Total params: 1,049,345\n",
      "Trainable params: 1,049,089\n",
      "Non-trainable params: 256\n",
      "_________________________________________________________________\n",
      "None\n",
      "\n",
      "\n",
      "\n",
      "\n",
      "FITTING MODEL TO TRAIN TOP MODEL ON OUTPUT FEATURES OF CONV BLOCKS OF VGG16\n",
      "\n",
      "Epoch 1/35\n",
      "657/657 [==============================] - 10s 15ms/step - loss: 58.7252 - accuracy: 0.8117 - val_loss: 35.6809 - val_accuracy: 0.8798\n",
      "Epoch 2/35\n",
      "657/657 [==============================] - 9s 14ms/step - loss: 23.4148 - accuracy: 0.8715 - val_loss: 14.2658 - val_accuracy: 0.9045\n",
      "Epoch 3/35\n",
      "657/657 [==============================] - 10s 15ms/step - loss: 9.4394 - accuracy: 0.8858 - val_loss: 5.8272 - val_accuracy: 0.8923\n",
      "Epoch 4/35\n",
      "657/657 [==============================] - 9s 14ms/step - loss: 3.9064 - accuracy: 0.8981 - val_loss: 2.4624 - val_accuracy: 0.9040\n",
      "Epoch 5/35\n",
      "657/657 [==============================] - 9s 14ms/step - loss: 1.7165 - accuracy: 0.9011 - val_loss: 1.1481 - val_accuracy: 0.9038\n",
      "Epoch 6/35\n",
      "657/657 [==============================] - 9s 14ms/step - loss: 1.0950 - accuracy: 0.9079 - val_loss: 1.0397 - val_accuracy: 0.9158\n",
      "Epoch 7/35\n",
      "657/657 [==============================] - 9s 14ms/step - loss: 1.0062 - accuracy: 0.9190 - val_loss: 0.9699 - val_accuracy: 0.9100\n",
      "Epoch 8/35\n",
      "657/657 [==============================] - 9s 14ms/step - loss: 0.9353 - accuracy: 0.9161 - val_loss: 0.8992 - val_accuracy: 0.9135\n",
      "Epoch 9/35\n",
      "657/657 [==============================] - 9s 14ms/step - loss: 0.8690 - accuracy: 0.9185 - val_loss: 0.8367 - val_accuracy: 0.9165\n",
      "Epoch 10/35\n",
      "657/657 [==============================] - 9s 14ms/step - loss: 0.8086 - accuracy: 0.9214 - val_loss: 0.7866 - val_accuracy: 0.9137\n",
      "Epoch 11/35\n",
      "657/657 [==============================] - 9s 14ms/step - loss: 0.7736 - accuracy: 0.9245 - val_loss: 0.7767 - val_accuracy: 0.9165\n",
      "Epoch 12/35\n",
      "657/657 [==============================] - 10s 15ms/step - loss: 0.7695 - accuracy: 0.9230 - val_loss: 0.7711 - val_accuracy: 0.9185\n",
      "Epoch 13/35\n",
      "657/657 [==============================] - 9s 14ms/step - loss: 0.7618 - accuracy: 0.9239 - val_loss: 0.7646 - val_accuracy: 0.9185\n",
      "Epoch 14/35\n",
      "657/657 [==============================] - 9s 14ms/step - loss: 0.7569 - accuracy: 0.9245 - val_loss: 0.7595 - val_accuracy: 0.9195\n",
      "Epoch 15/35\n",
      "657/657 [==============================] - 10s 15ms/step - loss: 0.7520 - accuracy: 0.9262 - val_loss: 0.7540 - val_accuracy: 0.9183\n",
      "Epoch 16/35\n",
      "657/657 [==============================] - 9s 14ms/step - loss: 0.7479 - accuracy: 0.9266 - val_loss: 0.7538 - val_accuracy: 0.9185\n",
      "Epoch 17/35\n",
      "657/657 [==============================] - 9s 14ms/step - loss: 0.7486 - accuracy: 0.9256 - val_loss: 0.7541 - val_accuracy: 0.9185\n",
      "Epoch 18/35\n",
      "657/657 [==============================] - 10s 15ms/step - loss: 0.7478 - accuracy: 0.9240 - val_loss: 0.7533 - val_accuracy: 0.9187\n",
      "Epoch 19/35\n",
      "657/657 [==============================] - 10s 15ms/step - loss: 0.7456 - accuracy: 0.9279 - val_loss: 0.7527 - val_accuracy: 0.9187\n",
      "Epoch 20/35\n",
      "657/657 [==============================] - 10s 15ms/step - loss: 0.7489 - accuracy: 0.9236 - val_loss: 0.7517 - val_accuracy: 0.9185\n",
      "Epoch 21/35\n",
      "657/657 [==============================] - 9s 14ms/step - loss: 0.7457 - accuracy: 0.9262 - val_loss: 0.7527 - val_accuracy: 0.9178\n",
      "Epoch 22/35\n",
      "657/657 [==============================] - 9s 14ms/step - loss: 0.7456 - accuracy: 0.9258 - val_loss: 0.7518 - val_accuracy: 0.9187\n",
      "Epoch 23/35\n",
      "657/657 [==============================] - 10s 15ms/step - loss: 0.7441 - accuracy: 0.9265 - val_loss: 0.7518 - val_accuracy: 0.9187\n",
      "Epoch 24/35\n",
      "657/657 [==============================] - 9s 14ms/step - loss: 0.7458 - accuracy: 0.9260 - val_loss: 0.7525 - val_accuracy: 0.9187\n",
      "Epoch 25/35\n",
      "657/657 [==============================] - 9s 14ms/step - loss: 0.7438 - accuracy: 0.9255 - val_loss: 0.7522 - val_accuracy: 0.9185\n",
      "\n",
      "SAVING WEIGHTS FOR THE TOP MODEL TO BE USED IN PREDICTIONS LATER\n"
     ]
    }
   ],
   "source": [
    "print(\"LOADING PREDICTED FEATURE OUTPUTS FROM CONV BLOCKS OF VGG16\\n\")\n",
    "from tensorflow.keras import regularizers\n",
    "#SETTING HIGH REGULARIZATION SINCE VGG16 BLOCKS ARE HIGHLY COMPLEX AND DATASET IS COMPARATIVELY SMALL\n",
    "reg_l2=l2(0.35)\n",
    "reg_l1_l2=regularizers.l1_l2(l1=0.01, l2=0.2)\n",
    "\n",
    "\n",
    "if train_data.shape[0]%2!=0:\n",
    "    print(\"ODD NUMBER OF SAMPLE OUTPUTS FROM CONV FOR TRAINING DATA:(\\n NEED TO ACCORDINGLY CUT ONE FEATURE OUTPUT\\n\\n\")    \n",
    "    train_data= train_data[1:]\n",
    "\n",
    "train_labels = np.array(\n",
    "    [0] * (train_data.shape[0]//2) + [1] * (train_data.shape[0]//2))\n",
    "\n",
    "\n",
    "if validation_data.shape[0]%2!=0:\n",
    "    print(\"ODD NUMBER OF SAMPLE OUTPUTS FROM CONV for VALIDATION DATA :(\\n NEED TO ACCORDINGLY CUT ONE FEATURE OUTPUT\\n\\n\")    \n",
    "    validation_data= validation_data[1:]\n",
    "\n",
    "validation_labels = np.array(\n",
    "    [0] * (validation_data.shape[0]//2)  + [1] * (validation_data.shape[0]//2))\n",
    "\n",
    "\n",
    "#CREATING TOP MODEL ARCHITECTURE\n",
    "print(\"CREATING CUSTOM TOP LAYER ARCHITECTURE\\n\")\n",
    "model = Sequential()\n",
    "model.add(Flatten(input_shape=train_data.shape[1:]))\n",
    "model.add(Dense(128, activation='relu',kernel_regularizer=reg_l2))\n",
    "model.add(BatchNormalization())\n",
    "model.add(Dropout(0.5))\n",
    "model.add(Dense(1, activation='sigmoid'))\n",
    "\n",
    "print(model.summary())\n",
    "\n",
    "\n",
    "ini_lr = 0.001\n",
    "adam= optimizers.Adam(learning_rate=ini_lr)\n",
    "sgd = optimizers.SGD(learning_rate=ini_lr,momentum=0.9)\n",
    "adagrad = optimizers.Adagrad(learning_rate=ini_lr)\n",
    "#CALLBACKS\n",
    "\n",
    "#LEARNING RATE SCHEDULER - TO DECREASE LEARNING RATE AFTER CERTAIN EPOCHS FOR SLOW & OPTIMUM GRADIENT DESCENT TOWARDS THE END\n",
    "def scheduler(epoch, lr):\n",
    "     if epoch%5==0: #REDUCING AFTER EVERY EPOCH WITH MULTIPLE OF 20 [ZEROTH EPOCH(INCLUSIVE)]\n",
    "        return lr * 0.5\n",
    "     else:\n",
    "        return lr\n",
    "\n",
    "earlyStopping = EarlyStopping(monitor='val_loss', patience=5, verbose=0, mode='min')\n",
    "callback_scheduler =LearningRateScheduler(scheduler)\n",
    "\n",
    "#COMPILING MODEL\n",
    "model.compile(optimizer=sgd,\n",
    "              loss='binary_crossentropy', metrics=['accuracy'])\n",
    "\n",
    "\n",
    "print(\"\\n\\n\\n\\nFITTING MODEL TO TRAIN TOP MODEL ON OUTPUT FEATURES OF CONV BLOCKS OF VGG16\\n\")\n",
    "history = model.fit(train_data, train_labels,\n",
    "          epochs=35,\n",
    "          batch_size=batch_size,\n",
    "          callbacks=[callback_scheduler,earlyStopping],\n",
    "          validation_data=(validation_data, validation_labels))\n",
    "\n",
    "#saving weights for trained custom top layer\n",
    "\n",
    "print(\"\\nSAVING WEIGHTS FOR THE TOP MODEL TO BE USED IN PREDICTIONS LATER\")\n",
    "model.save_weights(top_model_weights_path)"
   ]
  },
  {
   "cell_type": "code",
   "execution_count": 17,
   "metadata": {},
   "outputs": [
    {
     "name": "stdout",
     "output_type": "stream",
     "text": [
      "EVALUATING MODEL TRAINING PERFORMANCE ON TRAINING AND VALIDATION DATASETS\n",
      "\n",
      "\n",
      "dict_keys(['loss', 'accuracy', 'val_loss', 'val_accuracy', 'lr'])\n"
     ]
    },
    {
     "data": {
      "image/png": "[encoded data removed]",
      "text/plain": [
       "<Figure size 432x288 with 1 Axes>"
      ]
     },
     "metadata": {
      "needs_background": "light"
     },
     "output_type": "display_data"
    },
    {
     "data": {
      "image/png": "[encoded data removed]",
      "text/plain": [
       "<Figure size 432x288 with 1 Axes>"
      ]
     },
     "metadata": {
      "needs_background": "light"
     },
     "output_type": "display_data"
    }
   ],
   "source": [
    "print(\"EVALUATING MODEL TRAINING PERFORMANCE ON TRAINING AND VALIDATION DATASETS\\n\\n\")\n",
    "print(history.\n",
    "      history.keys())\n",
    "\n",
    "\n",
    "#summarize history for accuracy\n",
    "plt.plot(history.history['accuracy'])\n",
    "plt.plot(history.history['val_accuracy'])\n",
    "plt.title('model accuracy')\n",
    "plt.ylabel('accuracy')\n",
    "plt.xlabel('epoch')\n",
    "plt.legend(['train', 'test'], loc='upper left')\n",
    "plt.show()\n",
    "\n",
    "# summarize history for loss\n",
    "plt.plot(history.history['loss'])\n",
    "plt.plot(history.history['val_loss'])\n",
    "plt.title('model loss')\n",
    "plt.ylabel('loss')\n",
    "plt.xlabel('epoch')\n",
    "plt.legend(['train', 'test'], loc='upper left')\n",
    "plt.show()"
   ]
  },
  {
   "cell_type": "code",
   "execution_count": null,
   "metadata": {},
   "outputs": [],
   "source": []
  },
  {
   "cell_type": "code",
   "execution_count": null,
   "metadata": {},
   "outputs": [],
   "source": []
  }
 ],
 "metadata": {
  "kernelspec": {
   "display_name": "Python 3",
   "language": "python",
   "name": "python3"
  },
  "language_info": {
   "codemirror_mode": {
    "name": "ipython",
    "version": 3
   },
   "file_extension": ".py",
   "mimetype": "text/x-python",
   "name": "python",
   "nbconvert_exporter": "python",
   "pygments_lexer": "ipython3",
   "version": "3.8.5"
  }
 },
 "nbformat": 4,
 "nbformat_minor": 4
}
