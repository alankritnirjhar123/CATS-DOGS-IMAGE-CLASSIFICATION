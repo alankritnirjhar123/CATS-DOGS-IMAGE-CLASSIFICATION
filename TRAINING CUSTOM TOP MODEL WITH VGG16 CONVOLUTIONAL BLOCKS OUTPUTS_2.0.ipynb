{
 "cells": [
  {
   "cell_type": "code",
   "execution_count": 116,
   "metadata": {},
   "outputs": [],
   "source": [
    "import numpy as np\n",
    "import os\n",
    "from tensorflow import keras\n",
    "from tensorflow.keras.preprocessing.image import ImageDataGenerator\n",
    "from tensorflow.keras.models import Sequential\n",
    "from tensorflow.keras.layers import Dropout, Flatten, Dense,BatchNormalization\n",
    "from tensorflow.keras import applications\n",
    "from tensorflow.keras.callbacks import EarlyStopping, ModelCheckpoint, ReduceLROnPlateau,LearningRateScheduler\n",
    "from tensorflow.keras import optimizers\n",
    "import tensorflow\n",
    "from tensorflow.keras.regularizers import l2\n",
    "import matplotlib.pyplot as plt"
   ]
  },
  {
   "cell_type": "code",
   "execution_count": null,
   "metadata": {},
   "outputs": [],
   "source": [
    "# dimensions of our images.\n",
    "img_width, img_height = 150, 150\n",
    "\n",
    "#To Save the Weights to be Used Later in Predictions\n",
    "top_model_weights_path = os.path.join(directory,'bottleneck_fc_model.h5')\n",
    "directory = r'C:\\Users\\Alankrit\\Videos\\PetImages'\n",
    "train_data_dir = os.path.join(directory,'data\\\\train')\n",
    "validation_data_dir = os.path.join(directory,'data\\\\validation')\n",
    "\n",
    "\n",
    "\n",
    "#SET TO THE NUMBER OF IMAGES IN TRAIN AND VALIDATION DIRECTORIES\n",
    "nb_train_samples = 15099\n",
    "nb_validation_samples = 8000\n",
    "epochs = 50\n",
    "batch_size = 32\n",
    "\n",
    "#FUNCTION TO PREDICT THE CONV. BLOCKS OUTPUT FROM VGG16 TO BE USED IN TRAINING TOP MODEL \n",
    "def save_bottlebeck_features():\n",
    "    datagen = ImageDataGenerator(rescale=1. / 255)\n",
    "\n",
    "    # build the VGG16 network\n",
    "    model = applications.VGG16(include_top=False, weights='imagenet')\n",
    "    \n",
    "    \n",
    "    generator = datagen.flow_from_directory(\n",
    "        train_data_dir,\n",
    "        target_size=(img_width, img_height),\n",
    "        batch_size=batch_size,\n",
    "        class_mode=None,\n",
    "        shuffle=False) #SETTING SHUFFLE=FALSE to be manually able to label the CONV BLOCKS Outputs used in TOP MODEL TRAINING\n",
    "    \n",
    "    bottleneck_features_train = model.predict_generator(\n",
    "        generator)\n",
    "    \n",
    "    \n",
    "    print(\"SAVING TRAINING FEATURE OUTPUTS FROM CONVOLUTIONAL BLOCKS\")\n",
    "    np.save(open(os.path.join(directory,'conv_features_train.npy'), 'wb'),\n",
    "            bottleneck_features_train)\n",
    "\n",
    "    \n",
    "    \n",
    "    generator = datagen.flow_from_directory(\n",
    "        validation_data_dir,\n",
    "        target_size=(img_width, img_height),\n",
    "        batch_size=batch_size,\n",
    "        class_mode=None,\n",
    "        shuffle=False)\n",
    "    \n",
    "    bottleneck_features_validation = model.predict_generator(\n",
    "        generator)\n",
    "    \n",
    "    print(\"\\nSAVING VALIDATION FEATURE OUTPUTS FROM CONVOLUTIONAL BLOCKS\\n\")\n",
    "    np.save(open(os.path.join(directory,'conv_features_validation.npy'), 'wb'),\n",
    "            bottleneck_features_validation)\n",
    "\n",
    "    \n",
    "    \n",
    "    \n",
    "print(\"CALLING FUNCTION TO PRODUCE OUTPUTS USING CONVOLUTIONAL BLOCKS OF VGG16\")\n",
    "save_bottlebeck_features()"
   ]
  },
  {
   "cell_type": "code",
   "execution_count": 117,
   "metadata": {},
   "outputs": [
    {
     "name": "stdout",
     "output_type": "stream",
     "text": [
      "CALLING FUNCTION TO PRODUCE OUTPUTS USING CONVOLUTIONAL BLOCKS OF VGG16\n",
      "Found 15099 images belonging to 2 classes.\n"
     ]
    },
    {
     "name": "stderr",
     "output_type": "stream",
     "text": [
      "D:\\ana\\envs\\tensorflow-gpu\\lib\\site-packages\\PIL\\TiffImagePlugin.py:763: UserWarning: Possibly corrupt EXIF data.  Expecting to read 32 bytes but only got 0. Skipping tag 270\n",
      "  warnings.warn(\n",
      "D:\\ana\\envs\\tensorflow-gpu\\lib\\site-packages\\PIL\\TiffImagePlugin.py:763: UserWarning: Possibly corrupt EXIF data.  Expecting to read 5 bytes but only got 0. Skipping tag 271\n",
      "  warnings.warn(\n",
      "D:\\ana\\envs\\tensorflow-gpu\\lib\\site-packages\\PIL\\TiffImagePlugin.py:763: UserWarning: Possibly corrupt EXIF data.  Expecting to read 8 bytes but only got 0. Skipping tag 272\n",
      "  warnings.warn(\n",
      "D:\\ana\\envs\\tensorflow-gpu\\lib\\site-packages\\PIL\\TiffImagePlugin.py:763: UserWarning: Possibly corrupt EXIF data.  Expecting to read 8 bytes but only got 0. Skipping tag 282\n",
      "  warnings.warn(\n",
      "D:\\ana\\envs\\tensorflow-gpu\\lib\\site-packages\\PIL\\TiffImagePlugin.py:763: UserWarning: Possibly corrupt EXIF data.  Expecting to read 8 bytes but only got 0. Skipping tag 283\n",
      "  warnings.warn(\n",
      "D:\\ana\\envs\\tensorflow-gpu\\lib\\site-packages\\PIL\\TiffImagePlugin.py:763: UserWarning: Possibly corrupt EXIF data.  Expecting to read 20 bytes but only got 0. Skipping tag 306\n",
      "  warnings.warn(\n",
      "D:\\ana\\envs\\tensorflow-gpu\\lib\\site-packages\\PIL\\TiffImagePlugin.py:763: UserWarning: Possibly corrupt EXIF data.  Expecting to read 48 bytes but only got 0. Skipping tag 532\n",
      "  warnings.warn(\n",
      "D:\\ana\\envs\\tensorflow-gpu\\lib\\site-packages\\PIL\\TiffImagePlugin.py:785: UserWarning: Corrupt EXIF data.  Expecting to read 2 bytes but only got 0. \n",
      "  warnings.warn(str(msg))\n"
     ]
    },
    {
     "name": "stdout",
     "output_type": "stream",
     "text": [
      "SAVING TRAINING FEATURE OUTPUTS FROM CONVOLUTIONAL BLOCKS\n",
      "Found 7000 images belonging to 2 classes.\n",
      "\n",
      "SAVING VALIDATION FEATURE OUTPUTS FROM CONVOLUTIONAL BLOCKS\n",
      "\n"
     ]
    }
   ],
   "source": [
    "train_data = np.load(open(os.path.join(directory,'conv_features_train.npy'),'rb'))\n",
    "print(train_data.shape)"
   ]
  },
  {
   "cell_type": "code",
   "execution_count": 140,
   "metadata": {},
   "outputs": [
    {
     "name": "stdout",
     "output_type": "stream",
     "text": [
      "(7000, 4, 4, 512)\n"
     ]
    }
   ],
   "source": [
    "validation_data = np.load(open(os.path.join(directory,'conv_features_validation.npy'),'rb'))\n",
    "print(validation_data.shape)"
   ]
  },
  {
   "cell_type": "markdown",
   "metadata": {},
   "source": [
    "# FUNCTION TO TRAIN TOP MODEL"
   ]
  },
  {
   "cell_type": "code",
   "execution_count": 172,
   "metadata": {
    "scrolled": false
   },
   "outputs": [
    {
     "name": "stdout",
     "output_type": "stream",
     "text": [
      "LOADING PREDICTED FEATURE OUTPUTS FROM CONV BLOCKS OF VGG16\n",
      "\n",
      "CREATING CUSTOM TOP LAYER ARCHITECTURE\n",
      "\n",
      "Model: \"sequential_41\"\n",
      "_________________________________________________________________\n",
      "Layer (type)                 Output Shape              Param #   \n",
      "=================================================================\n",
      "flatten_40 (Flatten)         (None, 8192)              0         \n",
      "_________________________________________________________________\n",
      "dense_76 (Dense)             (None, 128)               1048704   \n",
      "_________________________________________________________________\n",
      "batch_normalization_33 (Batc (None, 128)               512       \n",
      "_________________________________________________________________\n",
      "dropout_36 (Dropout)         (None, 128)               0         \n",
      "_________________________________________________________________\n",
      "dense_77 (Dense)             (None, 1)                 129       \n",
      "=================================================================\n",
      "Total params: 1,049,345\n",
      "Trainable params: 1,049,089\n",
      "Non-trainable params: 256\n",
      "_________________________________________________________________\n",
      "None\n",
      "\n",
      "\n",
      "\n",
      "\n",
      "FITTING MODEL TO TRAIN TOP MODEL ON OUTPUT FEATURES OF CONV BLOCKS OF VGG16\n",
      "\n",
      "Epoch 1/35\n",
      "472/472 [==============================] - 5s 11ms/step - loss: 105.3692 - accuracy: 0.7182 - val_loss: 89.2344 - val_accuracy: 0.8340\n",
      "Epoch 2/35\n",
      "472/472 [==============================] - 5s 11ms/step - loss: 78.6130 - accuracy: 0.8069 - val_loss: 69.3017 - val_accuracy: 0.8536\n",
      "Epoch 3/35\n",
      "472/472 [==============================] - 5s 11ms/step - loss: 62.2819 - accuracy: 0.8245 - val_loss: 55.8681 - val_accuracy: 0.8634\n",
      "Epoch 4/35\n",
      "472/472 [==============================] - 5s 10ms/step - loss: 50.7939 - accuracy: 0.8388 - val_loss: 46.0577 - val_accuracy: 0.8723\n",
      "Epoch 5/35\n",
      "472/472 [==============================] - 5s 11ms/step - loss: 42.2245 - accuracy: 0.8437 - val_loss: 38.5712 - val_accuracy: 0.8767\n",
      "Epoch 6/35\n",
      "472/472 [==============================] - 6s 12ms/step - loss: 35.5742 - accuracy: 0.8549 - val_loss: 32.6861 - val_accuracy: 0.8826\n",
      "Epoch 7/35\n",
      "472/472 [==============================] - 5s 11ms/step - loss: 30.2992 - accuracy: 0.8600 - val_loss: 27.9693 - val_accuracy: 0.8851\n",
      "Epoch 8/35\n",
      "472/472 [==============================] - 5s 12ms/step - loss: 26.0394 - accuracy: 0.8643 - val_loss: 24.1277 - val_accuracy: 0.8886\n",
      "Epoch 9/35\n",
      "472/472 [==============================] - 5s 11ms/step - loss: 22.5443 - accuracy: 0.8665 - val_loss: 20.9611 - val_accuracy: 0.8919\n",
      "Epoch 10/35\n",
      "472/472 [==============================] - 5s 10ms/step - loss: 19.6462 - accuracy: 0.8731 - val_loss: 18.3259 - val_accuracy: 0.8901\n",
      "Epoch 11/35\n",
      "472/472 [==============================] - 4s 9ms/step - loss: 16.5466 - accuracy: 0.8768 - val_loss: 14.8338 - val_accuracy: 0.8959\n",
      "Epoch 12/35\n",
      "472/472 [==============================] - 5s 10ms/step - loss: 13.4684 - accuracy: 0.8795 - val_loss: 12.1456 - val_accuracy: 0.8951\n",
      "Epoch 13/35\n",
      "472/472 [==============================] - 4s 9ms/step - loss: 11.0813 - accuracy: 0.8861 - val_loss: 10.0361 - val_accuracy: 0.8986\n",
      "Epoch 14/35\n",
      "472/472 [==============================] - 4s 9ms/step - loss: 9.2026 - accuracy: 0.8879 - val_loss: 8.3728 - val_accuracy: 0.9029\n",
      "Epoch 15/35\n",
      "472/472 [==============================] - 4s 9ms/step - loss: 7.7096 - accuracy: 0.8910 - val_loss: 7.0522 - val_accuracy: 0.9047\n",
      "Epoch 16/35\n",
      "472/472 [==============================] - 4s 9ms/step - loss: 6.5271 - accuracy: 0.8977 - val_loss: 5.9960 - val_accuracy: 0.9051\n",
      "Epoch 17/35\n",
      "472/472 [==============================] - 4s 9ms/step - loss: 5.5681 - accuracy: 0.8971 - val_loss: 5.1407 - val_accuracy: 0.9047\n",
      "Epoch 18/35\n",
      "472/472 [==============================] - 5s 10ms/step - loss: 4.7975 - accuracy: 0.9003 - val_loss: 4.4435 - val_accuracy: 0.9087\n",
      "Epoch 19/35\n",
      "472/472 [==============================] - 5s 10ms/step - loss: 4.1602 - accuracy: 0.9042 - val_loss: 3.8751 - val_accuracy: 0.9064\n",
      "Epoch 20/35\n",
      "472/472 [==============================] - 6s 13ms/step - loss: 3.6327 - accuracy: 0.9118 - val_loss: 3.4024 - val_accuracy: 0.9093\n",
      "Epoch 21/35\n",
      "472/472 [==============================] - 5s 11ms/step - loss: 3.0906 - accuracy: 0.9098 - val_loss: 2.7971 - val_accuracy: 0.9087\n",
      "Epoch 22/35\n",
      "472/472 [==============================] - 5s 11ms/step - loss: 2.5576 - accuracy: 0.9118 - val_loss: 2.3358 - val_accuracy: 0.9126\n",
      "Epoch 23/35\n",
      "472/472 [==============================] - 5s 10ms/step - loss: 2.1451 - accuracy: 0.9167 - val_loss: 1.9858 - val_accuracy: 0.9121\n",
      "Epoch 24/35\n",
      "472/472 [==============================] - 5s 10ms/step - loss: 1.8361 - accuracy: 0.9192 - val_loss: 1.7216 - val_accuracy: 0.9100\n",
      "Epoch 25/35\n",
      "472/472 [==============================] - 5s 10ms/step - loss: 1.5948 - accuracy: 0.9216 - val_loss: 1.5015 - val_accuracy: 0.9124\n",
      "Epoch 26/35\n",
      "472/472 [==============================] - 5s 10ms/step - loss: 1.3977 - accuracy: 0.9216 - val_loss: 1.3349 - val_accuracy: 0.9137\n",
      "Epoch 27/35\n",
      "472/472 [==============================] - 5s 10ms/step - loss: 1.2402 - accuracy: 0.9265 - val_loss: 1.1994 - val_accuracy: 0.9137\n",
      "Epoch 28/35\n",
      "472/472 [==============================] - 5s 10ms/step - loss: 1.1149 - accuracy: 0.9275 - val_loss: 1.1004 - val_accuracy: 0.9071\n",
      "Epoch 29/35\n",
      "472/472 [==============================] - 4s 9ms/step - loss: 1.0092 - accuracy: 0.9316 - val_loss: 0.9931 - val_accuracy: 0.9154\n",
      "Epoch 30/35\n",
      "472/472 [==============================] - 5s 10ms/step - loss: 0.9240 - accuracy: 0.9300 - val_loss: 0.9267 - val_accuracy: 0.9101\n",
      "Epoch 31/35\n",
      "472/472 [==============================] - 5s 10ms/step - loss: 0.8461 - accuracy: 0.9285 - val_loss: 0.8299 - val_accuracy: 0.9120\n",
      "Epoch 32/35\n",
      "472/472 [==============================] - 5s 10ms/step - loss: 0.7551 - accuracy: 0.9301 - val_loss: 0.7618 - val_accuracy: 0.9064\n",
      "Epoch 33/35\n",
      "472/472 [==============================] - 4s 9ms/step - loss: 0.6819 - accuracy: 0.9351 - val_loss: 0.6887 - val_accuracy: 0.9137\n",
      "Epoch 34/35\n",
      "472/472 [==============================] - 4s 9ms/step - loss: 0.6232 - accuracy: 0.9343 - val_loss: 0.6529 - val_accuracy: 0.9086\n",
      "Epoch 35/35\n",
      "472/472 [==============================] - 4s 9ms/step - loss: 0.5748 - accuracy: 0.9361 - val_loss: 0.6067 - val_accuracy: 0.9116\n",
      "\n",
      "SAVING WEIGHTS FOR THE TOP MODEL TO BE USED IN PREDICTIONS LATER\n"
     ]
    }
   ],
   "source": [
    "print(\"LOADING PREDICTED FEATURE OUTPUTS FROM CONV BLOCKS OF VGG16\\n\")\n",
    "from tensorflow.keras import regularizers\n",
    "#SETTING HIGH REGULARIZATION SINCE VGG16 BLOCKS ARE HIGHLY COMPLEX AND DATASET IS COMPARATIVELY SMALL\n",
    "reg_l2=l2(0.5)\n",
    "reg_l1_l2=regularizers.l1_l2(l1=0.01, l2=0.2)\n",
    "\n",
    "\n",
    "if train_data.shape[0]%2!=0:\n",
    "    print(\"ODD NUMBER OF SAMPLE OUTPUTS FROM CONV FOR TRAINING DATA:(\\n NEED TO ACCORDINGLY CUT ONE FEATURE OUTPUT\\n\\n\")    \n",
    "    train_data= train_data[1:]\n",
    "\n",
    "train_labels = np.array(\n",
    "    [0] * (train_data.shape[0]//2) + [1] * (train_data.shape[0]//2))\n",
    "\n",
    "\n",
    "if validation_data.shape[0]%2!=0:\n",
    "    print(\"ODD NUMBER OF SAMPLE OUTPUTS FROM CONV for VALIDATION DATA :(\\n NEED TO ACCORDINGLY CUT ONE FEATURE OUTPUT\\n\\n\")    \n",
    "    validation_data= validation_data[1:]\n",
    "\n",
    "validation_labels = np.array(\n",
    "    [0] * (validation_data.shape[0]//2)  + [1] * (validation_data.shape[0]//2))\n",
    "\n",
    "\n",
    "#CREATING TOP MODEL ARCHITECTURE\n",
    "print(\"CREATING CUSTOM TOP LAYER ARCHITECTURE\\n\")\n",
    "model = Sequential()\n",
    "model.add(Flatten(input_shape=train_data.shape[1:]))\n",
    "model.add(Dense(128, activation='relu',kernel_regularizer=reg_l2))\n",
    "model.add(BatchNormalization())\n",
    "model.add(Dropout(0.5))\n",
    "model.add(Dense(1, activation='sigmoid'))\n",
    "\n",
    "print(model.summary())\n",
    "\n",
    "\n",
    "ini_lr = 0.0001\n",
    "adam= optimizers.Adam(learning_rate=ini_lr)\n",
    "sgd = optimizers.SGD(learning_rate=ini_lr,momentum=0.9)\n",
    "adagrad = optimizers.Adagrad(learning_rate=ini_lr)\n",
    "#CALLBACKS\n",
    "\n",
    "#LEARNING RATE SCHEDULER - TO DECREASE LEARNING RATE AFTER CERTAIN EPOCHS FOR SLOW & OPTIMUM GRADIENT DESCENT TOWARDS THE END\n",
    "def scheduler(epoch, lr):\n",
    "     if epoch%10==0: #REDUCING AFTER EVERY EPOCH WITH MULTIPLE OF 20 [ZEROTH EPOCH(INCLUSIVE)]\n",
    "        return lr * tensorflow.math.exp(0.5)\n",
    "     else:\n",
    "        return lr\n",
    "\n",
    "earlyStopping = EarlyStopping(monitor='val_loss', patience=5, verbose=0, mode='min')\n",
    "callback_scheduler =LearningRateScheduler(scheduler)\n",
    "\n",
    "#COMPILING MODEL\n",
    "model.compile(optimizer=adagrad,\n",
    "              loss='binary_crossentropy', metrics=['accuracy'])\n",
    "\n",
    "\n",
    "print(\"\\n\\n\\n\\nFITTING MODEL TO TRAIN TOP MODEL ON OUTPUT FEATURES OF CONV BLOCKS OF VGG16\\n\")\n",
    "history = model.fit(train_data, train_labels,\n",
    "          epochs=35,\n",
    "          batch_size=batch_size,\n",
    "          callbacks=[callback_scheduler,earlyStopping],\n",
    "          validation_data=(validation_data, validation_labels))\n",
    "\n",
    "#saving weights for trained custom top layer\n",
    "\n",
    "print(\"\\nSAVING WEIGHTS FOR THE TOP MODEL TO BE USED IN PREDICTIONS LATER\")\n",
    "model.save_weights(top_model_weights_path)"
   ]
  },
  {
   "cell_type": "code",
   "execution_count": 173,
   "metadata": {},
   "outputs": [
    {
     "name": "stdout",
     "output_type": "stream",
     "text": [
      "EVALUATING MODEL TRAINING PERFORMANCE ON TRAINING AND VALIDATION DATASETS\n",
      "\n",
      "\n",
      "dict_keys(['loss', 'accuracy', 'val_loss', 'val_accuracy', 'lr'])\n"
     ]
    },
    {
     "data": {
      "image/png": "[encoded data removed]",
      "text/plain": [
       "<Figure size 432x288 with 1 Axes>"
      ]
     },
     "metadata": {
      "needs_background": "light"
     },
     "output_type": "display_data"
    },
    {
     "data": {
      "image/png": "[encoded data removed]",
      "text/plain": [
       "<Figure size 432x288 with 1 Axes>"
      ]
     },
     "metadata": {
      "needs_background": "light"
     },
     "output_type": "display_data"
    }
   ],
   "source": [
    "print(\"EVALUATING MODEL TRAINING PERFORMANCE ON TRAINING AND VALIDATION DATASETS\\n\\n\")\n",
    "print(history.\n",
    "      history.keys())\n",
    "\n",
    "\n",
    "#summarize history for accuracy\n",
    "plt.plot(history.history['accuracy'])\n",
    "plt.plot(history.history['val_accuracy'])\n",
    "plt.title('model accuracy')\n",
    "plt.ylabel('accuracy')\n",
    "plt.xlabel('epoch')\n",
    "plt.legend(['train', 'test'], loc='upper left')\n",
    "plt.show()\n",
    "\n",
    "# summarize history for loss\n",
    "plt.plot(history.history['loss'])\n",
    "plt.plot(history.history['val_loss'])\n",
    "plt.title('model loss')\n",
    "plt.ylabel('loss')\n",
    "plt.xlabel('epoch')\n",
    "plt.legend(['train', 'test'], loc='upper left')\n",
    "plt.show()"
   ]
  },
  {
   "cell_type": "code",
   "execution_count": null,
   "metadata": {},
   "outputs": [],
   "source": []
  }
 ],
 "metadata": {
  "kernelspec": {
   "display_name": "Python 3",
   "language": "python",
   "name": "python3"
  },
  "language_info": {
   "codemirror_mode": {
    "name": "ipython",
    "version": 3
   },
   "file_extension": ".py",
   "mimetype": "text/x-python",
   "name": "python",
   "nbconvert_exporter": "python",
   "pygments_lexer": "ipython3",
   "version": "3.8.5"
  }
 },
 "nbformat": 4,
 "nbformat_minor": 4
}
